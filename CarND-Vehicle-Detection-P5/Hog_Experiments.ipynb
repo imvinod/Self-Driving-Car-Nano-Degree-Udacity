{
 "cells": [
  {
   "cell_type": "code",
   "execution_count": 5,
   "metadata": {
    "collapsed": true
   },
   "outputs": [],
   "source": [
    "import numpy as np\n",
    "import cv2\n",
    "import pickle\n",
    "import glob\n",
    "import matplotlib.pyplot as plt\n",
    "%matplotlib inline\n",
    "\n",
    "from skimage.feature import hog\n",
    "from sklearn.preprocessing import StandardScaler\n",
    "from sklearn.model_selection import train_test_split\n",
    "from sklearn.svm import LinearSVC"
   ]
  },
  {
   "cell_type": "code",
   "execution_count": 6,
   "metadata": {
    "collapsed": true
   },
   "outputs": [],
   "source": [
    "vehicle_images = glob.glob('train_data/vehicles/**/*.png')\n",
    "non_vehicle_images = glob.glob('train_data/non-vehicles/**/*.png')"
   ]
  },
  {
   "cell_type": "code",
   "execution_count": 7,
   "metadata": {
    "collapsed": true
   },
   "outputs": [],
   "source": [
    "def get_spatial_bin_features(img, size=(32, 32)):\n",
    "    # convert to feature vec\n",
    "    features = cv2.resize(img, size).ravel() \n",
    "    return features\n",
    "\n",
    "def get_color_hist(img, nbins=32):    #bins_range=(0, 256)\n",
    "    # Compute the histogram of the color channels separately\n",
    "    channel1_hist = np.histogram(img[:,:,0], bins=nbins)\n",
    "    channel2_hist = np.histogram(img[:,:,1], bins=nbins)\n",
    "    channel3_hist = np.histogram(img[:,:,2], bins=nbins)\n",
    "    # Concatenate the histograms into a single feature vector\n",
    "    hist_features = np.concatenate((channel1_hist[0], channel2_hist[0], channel3_hist[0]))\n",
    "    # Return the individual histograms, bin_centers and feature vector\n",
    "    return hist_features\n",
    "\n",
    "def get_hog_features(img, orient, pix_per_cell, cell_per_block, \n",
    "                        vis=False, feature_vec=True):\n",
    "    # Call with two outputs if visualize==True\n",
    "    if vis == True:\n",
    "        features, hog_image = hog(img, orientations=orient, \n",
    "                                  pixels_per_cell=(pix_per_cell, pix_per_cell),\n",
    "                                  cells_per_block=(cell_per_block, cell_per_block),\n",
    "                                  block_norm= 'L2-Hys',\n",
    "                                  transform_sqrt=False, \n",
    "                                  visualise=vis, feature_vector=feature_vec)\n",
    "        return features, hog_image\n",
    "    # Otherwise call with one output\n",
    "    else:      \n",
    "        features = hog(img, orientations=orient, \n",
    "                       pixels_per_cell=(pix_per_cell, pix_per_cell),\n",
    "                       cells_per_block=(cell_per_block, cell_per_block),\n",
    "                       block_norm= 'L2-Hys',\n",
    "                       transform_sqrt=False, \n",
    "                       visualise=vis, feature_vector=feature_vec)\n",
    "        return features\n",
    "\n",
    "\n",
    "# Have this function call bin_spatial() and color_hist()\n",
    "def extract_features(imgs, color_space='RGB', spatial_size=(32, 32),\n",
    "                        hist_bins=32, orient=9, \n",
    "                        pix_per_cell=8, cell_per_block=2, hog_channel=0,\n",
    "                        spatial_feat=True, hist_feat=True, hog_feat=True):\n",
    "    # Create a list to append feature vectors to\n",
    "    features = []\n",
    "    # Iterate through the list of images\n",
    "    for file in imgs:\n",
    "        file_features = []\n",
    "        # Read in each one by one\n",
    "        image = cv2.cvtColor(cv2.imread(file), cv2.COLOR_BGR2RGB)\n",
    "        # apply color conversion if other than 'RGB'\n",
    "        if color_space != 'RGB':\n",
    "            if color_space == 'HSV':\n",
    "                feature_image = cv2.cvtColor(image, cv2.COLOR_RGB2HSV)\n",
    "            elif color_space == 'LUV':\n",
    "                feature_image = cv2.cvtColor(image, cv2.COLOR_RGB2LUV)\n",
    "            elif color_space == 'HLS':\n",
    "                feature_image = cv2.cvtColor(image, cv2.COLOR_RGB2HLS)\n",
    "            elif color_space == 'YUV':\n",
    "                feature_image = cv2.cvtColor(image, cv2.COLOR_RGB2YUV)\n",
    "            elif color_space == 'YCrCb':\n",
    "                feature_image = cv2.cvtColor(image, cv2.COLOR_RGB2YCrCb)\n",
    "        else: feature_image = np.copy(image)      \n",
    "        \n",
    "        # spatial binning\n",
    "        if spatial_feat == True:\n",
    "            spatial_features = get_spatial_bin_features(feature_image, size=spatial_size)\n",
    "            file_features.append(spatial_features)\n",
    "        \n",
    "        # Apply color_hist()\n",
    "        if hist_feat == True:\n",
    "            hist_features = get_color_hist(feature_image, nbins=hist_bins)\n",
    "            file_features.append(hist_features)\n",
    "        \n",
    "        if hog_feat == True:\n",
    "        # Call get_hog_features() with vis=False, feature_vec=True\n",
    "            if hog_channel == 'ALL':\n",
    "                hog_features = []\n",
    "                for channel in range(feature_image.shape[2]):\n",
    "                    hog_features.append(get_hog_features(feature_image[:,:,channel], \n",
    "                                        orient, pix_per_cell, cell_per_block, \n",
    "                                        vis=False, feature_vec=True))\n",
    "                hog_features = np.ravel(hog_features)        \n",
    "            else:\n",
    "                hog_features = get_hog_features(feature_image[:,:,hog_channel], orient, \n",
    "                            pix_per_cell, cell_per_block, vis=False, feature_vec=True)\n",
    "            # Append the new feature vector to the features list\n",
    "            file_features.append(hog_features)\n",
    "        features.append(np.concatenate(file_features))\n",
    "    # Return list of feature vectors\n",
    "    return features"
   ]
  },
  {
   "cell_type": "code",
   "execution_count": 14,
   "metadata": {
    "collapsed": true
   },
   "outputs": [],
   "source": [
    "orient = 9\n",
    "pix_per_cell = 8\n",
    "cell_per_block = 2\n",
    "size = (16,16)\n",
    "hist_bins = 32\n",
    "\n",
    "color_spaces = ['YCrCb','HSV', 'YUV', 'HLS']\n",
    "channels = ['ALL', 0, 1, 2]"
   ]
  },
  {
   "cell_type": "code",
   "execution_count": 17,
   "metadata": {
    "collapsed": true
   },
   "outputs": [],
   "source": [
    "def model(X_train, y_train, X_test, y_test):\n",
    "    svc = LinearSVC()\n",
    "    svc.fit(X_train, y_train)\n",
    "    acc = round(svc.score(X_test, y_test),4)\n",
    "    return svc, acc"
   ]
  },
  {
   "cell_type": "code",
   "execution_count": 19,
   "metadata": {
    "collapsed": false
   },
   "outputs": [
    {
     "name": "stdout",
     "output_type": "stream",
     "text": [
      "CSpace: YCrCb, Channel: ALL Test Accuracy: 98.9000\n",
      "CSpace: YCrCb, Channel: 0 Test Accuracy: 97.9700\n",
      "CSpace: YCrCb, Channel: 1 Test Accuracy: 97.1300\n",
      "CSpace: YCrCb, Channel: 2 Test Accuracy: 96.7900\n",
      "\n",
      "\n",
      "CSpace: HSV, Channel: ALL Test Accuracy: 98.3700\n",
      "CSpace: HSV, Channel: 0 Test Accuracy: 97.2100\n",
      "CSpace: HSV, Channel: 1 Test Accuracy: 97.6900\n",
      "CSpace: HSV, Channel: 2 Test Accuracy: 97.7200\n",
      "\n",
      "\n",
      "CSpace: YUV, Channel: ALL Test Accuracy: 98.6800\n",
      "CSpace: YUV, Channel: 0 Test Accuracy: 97.7800\n",
      "CSpace: YUV, Channel: 1 Test Accuracy: 96.5900\n",
      "CSpace: YUV, Channel: 2 Test Accuracy: 97.3800\n",
      "\n",
      "\n",
      "CSpace: HLS, Channel: ALL Test Accuracy: 97.8300\n",
      "CSpace: HLS, Channel: 0 Test Accuracy: 96.0300\n",
      "CSpace: HLS, Channel: 1 Test Accuracy: 97.5500\n",
      "CSpace: HLS, Channel: 2 Test Accuracy: 96.2800\n",
      "\n",
      "\n"
     ]
    }
   ],
   "source": [
    "for color_space in color_spaces:\n",
    "    for hog_channel in channels:\n",
    "        vehicle_features = extract_features(vehicle_images, color_space=color_space,\n",
    "                                            spatial_size=size, hist_bins=hist_bins, orient=orient,\n",
    "                                           pix_per_cell = pix_per_cell, cell_per_block=cell_per_block,\n",
    "                                           hog_channel=hog_channel)\n",
    "        non_vehicle_features = extract_features(non_vehicle_images, color_space=color_space,\n",
    "                                            spatial_size=size, hist_bins=hist_bins, orient=orient,\n",
    "                                           pix_per_cell = pix_per_cell, cell_per_block=cell_per_block,\n",
    "                                           hog_channel=hog_channel)\n",
    "\n",
    "        X = np.vstack((vehicle_features, non_vehicle_features)).astype(np.float64)\n",
    "        y = np.hstack((np.ones(len(vehicle_features)), np.zeros(len(non_vehicle_features))))\n",
    "\n",
    "        X_scaler = StandardScaler().fit(X)\n",
    "        scaled_X = X_scaler.transform(X)\n",
    "\n",
    "        X_train, X_test, y_train, y_test = train_test_split(scaled_X, y, test_size=0.2, random_state=101)\n",
    "\n",
    "        _, accuracy = model(X_train,y_train, X_test, y_test)\n",
    "        print('CSpace: {}, Channel: {} Test Accuracy: {:.4f}'.format(color_space,hog_channel,accuracy*100))\n",
    "    print('\\n')"
   ]
  },
  {
   "cell_type": "code",
   "execution_count": null,
   "metadata": {
    "collapsed": true
   },
   "outputs": [],
   "source": []
  },
  {
   "cell_type": "code",
   "execution_count": null,
   "metadata": {
    "collapsed": true
   },
   "outputs": [],
   "source": []
  },
  {
   "cell_type": "code",
   "execution_count": null,
   "metadata": {
    "collapsed": true
   },
   "outputs": [],
   "source": []
  },
  {
   "cell_type": "code",
   "execution_count": null,
   "metadata": {
    "collapsed": true
   },
   "outputs": [],
   "source": []
  },
  {
   "cell_type": "code",
   "execution_count": null,
   "metadata": {
    "collapsed": true
   },
   "outputs": [],
   "source": []
  }
 ],
 "metadata": {
  "anaconda-cloud": {},
  "kernelspec": {
   "display_name": "Python [conda env:carnd-term1]",
   "language": "python",
   "name": "conda-env-carnd-term1-py"
  },
  "language_info": {
   "codemirror_mode": {
    "name": "ipython",
    "version": 3
   },
   "file_extension": ".py",
   "mimetype": "text/x-python",
   "name": "python",
   "nbconvert_exporter": "python",
   "pygments_lexer": "ipython3",
   "version": "3.5.2"
  }
 },
 "nbformat": 4,
 "nbformat_minor": 1
}
